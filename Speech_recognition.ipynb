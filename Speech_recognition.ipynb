{
 "cells": [
  {
   "cell_type": "code",
   "execution_count": 2,
   "id": "def92b24-13e4-4c47-9566-a6bc1401b5df",
   "metadata": {},
   "outputs": [],
   "source": [
    "import speech_recognition as s"
   ]
  },
  {
   "cell_type": "code",
   "execution_count": 38,
   "id": "fd9ad814-4f45-42a5-982e-3844689a1117",
   "metadata": {
    "scrolled": true
   },
   "outputs": [
    {
     "name": "stdout",
     "output_type": "stream",
     "text": [
      "please speak\n",
      "Audio received successfully.\n",
      "Please download the model from https://github.com/alphacep/vosk-api/blob/master/doc/models.md and unpack as 'model' in the current folder.\n"
     ]
    }
   ],
   "source": [
    "sr= s.Recognizer()\n",
    "with s.Microphone() as m:\n",
    "    print(\"please speak\")\n",
    "    \n",
    "    audio= sr.listen(m,timeout=10)\n",
    "    if audio.frame_data: \n",
    "        print(\"Audio received successfully.\")\n",
    "    else:\n",
    "        print(\"No audio data received.\")\n",
    "    \n",
    "    text= sr.recognize_wit\n",
    "    \n",
    "    print(text)"
   ]
  }
 ],
 "metadata": {
  "kernelspec": {
   "display_name": "Python 3 (ipykernel)",
   "language": "python",
   "name": "python3"
  },
  "language_info": {
   "codemirror_mode": {
    "name": "ipython",
    "version": 3
   },
   "file_extension": ".py",
   "mimetype": "text/x-python",
   "name": "python",
   "nbconvert_exporter": "python",
   "pygments_lexer": "ipython3",
   "version": "3.11.4"
  }
 },
 "nbformat": 4,
 "nbformat_minor": 5
}
